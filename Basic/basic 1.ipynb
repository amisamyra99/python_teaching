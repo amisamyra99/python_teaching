{
 "cells": [
  {
   "cell_type": "code",
   "execution_count": 9,
   "id": "0002aeb2",
   "metadata": {},
   "outputs": [],
   "source": [
    "#comments\n",
    "hghjedghjkjhgj\n",
    "\n",
    "\n"
   ]
  },
  {
   "cell_type": "markdown",
   "id": "a5876ba6",
   "metadata": {},
   "source": [
    "commentaire multilines"
   ]
  },
  {
   "cell_type": "code",
   "execution_count": 10,
   "id": "96845c1f",
   "metadata": {},
   "outputs": [
    {
     "data": {
      "text/plain": [
       "'\\nhjkhjhkjdhlkjdhkjh\\njcdbhjfdbhjfbhj\\n'"
      ]
     },
     "execution_count": 10,
     "metadata": {},
     "output_type": "execute_result"
    }
   ],
   "source": [
    "\"\"\"\n",
    "hjkhjhkjdhlkjdhkjh\n",
    "jcdbhjfdbhjfbhj\n",
    "\"\"\""
   ]
  },
  {
   "cell_type": "code",
   "execution_count": 14,
   "id": "4c88bf22",
   "metadata": {},
   "outputs": [],
   "source": [
    "a=23\n",
    "b=\"hello\""
   ]
  },
  {
   "cell_type": "code",
   "execution_count": 79,
   "id": "82d526fc",
   "metadata": {},
   "outputs": [],
   "source": [
    "a=2"
   ]
  },
  {
   "cell_type": "code",
   "execution_count": 80,
   "id": "6e370379",
   "metadata": {},
   "outputs": [
    {
     "data": {
      "text/plain": [
       "2"
      ]
     },
     "execution_count": 80,
     "metadata": {},
     "output_type": "execute_result"
    }
   ],
   "source": [
    "a"
   ]
  },
  {
   "cell_type": "code",
   "execution_count": 12,
   "id": "292b9f22",
   "metadata": {},
   "outputs": [
    {
     "data": {
      "text/plain": [
       "int"
      ]
     },
     "execution_count": 12,
     "metadata": {},
     "output_type": "execute_result"
    }
   ],
   "source": [
    "type(a)"
   ]
  },
  {
   "cell_type": "code",
   "execution_count": 15,
   "id": "bde5b62f",
   "metadata": {},
   "outputs": [
    {
     "data": {
      "text/plain": [
       "str"
      ]
     },
     "execution_count": 15,
     "metadata": {},
     "output_type": "execute_result"
    }
   ],
   "source": [
    "type(b)"
   ]
  },
  {
   "cell_type": "code",
   "execution_count": 16,
   "id": "25ead6ad",
   "metadata": {},
   "outputs": [],
   "source": [
    "c=23"
   ]
  },
  {
   "cell_type": "markdown",
   "id": "794663eb",
   "metadata": {},
   "source": [
    "#operation scalar type"
   ]
  },
  {
   "cell_type": "code",
   "execution_count": 22,
   "id": "73cc2fdb",
   "metadata": {},
   "outputs": [],
   "source": [
    "emp1=\" Ami Samyra\"\n",
    "emp2=\"Martin Sanou\"\n",
    "emp3=\"Mr sanfo\""
   ]
  },
  {
   "cell_type": "code",
   "execution_count": 23,
   "id": "724e91bb",
   "metadata": {},
   "outputs": [
    {
     "name": "stdout",
     "output_type": "stream",
     "text": [
      "todays employers list:  Ami Samyra Martin Sanou Mr sanfo\n"
     ]
    }
   ],
   "source": [
    "print(\"todays employers list:\" ,emp1,emp2,emp3)"
   ]
  },
  {
   "cell_type": "code",
   "execution_count": 30,
   "id": "d3c329ad",
   "metadata": {},
   "outputs": [],
   "source": [
    "emp=emp1+\" \"+emp3+\" \"+emp2"
   ]
  },
  {
   "cell_type": "code",
   "execution_count": 31,
   "id": "562f3e36",
   "metadata": {},
   "outputs": [
    {
     "name": "stdout",
     "output_type": "stream",
     "text": [
      " Ami Samyra Mr sanfo Martin Sanou\n"
     ]
    }
   ],
   "source": [
    "print(emp)"
   ]
  },
  {
   "cell_type": "code",
   "execution_count": 32,
   "id": "867a3c77",
   "metadata": {},
   "outputs": [],
   "source": [
    "emp1,emp2=\"1\",\"a\""
   ]
  },
  {
   "cell_type": "code",
   "execution_count": 33,
   "id": "d16dacd9",
   "metadata": {},
   "outputs": [
    {
     "data": {
      "text/plain": [
       "'1'"
      ]
     },
     "execution_count": 33,
     "metadata": {},
     "output_type": "execute_result"
    }
   ],
   "source": [
    "emp1"
   ]
  },
  {
   "cell_type": "code",
   "execution_count": 37,
   "id": "7b5c4551",
   "metadata": {},
   "outputs": [],
   "source": [
    "x, y, z = 10, 20, 30"
   ]
  },
  {
   "cell_type": "code",
   "execution_count": 35,
   "id": "03b0d18b",
   "metadata": {},
   "outputs": [
    {
     "data": {
      "text/plain": [
       "10"
      ]
     },
     "execution_count": 35,
     "metadata": {},
     "output_type": "execute_result"
    }
   ],
   "source": [
    "x"
   ]
  },
  {
   "cell_type": "code",
   "execution_count": 38,
   "id": "3339a871",
   "metadata": {},
   "outputs": [
    {
     "data": {
      "text/plain": [
       "2"
      ]
     },
     "execution_count": 38,
     "metadata": {},
     "output_type": "execute_result"
    }
   ],
   "source": [
    "y"
   ]
  },
  {
   "cell_type": "code",
   "execution_count": 47,
   "id": "ec2065cc",
   "metadata": {},
   "outputs": [],
   "source": [
    "total=5.2"
   ]
  },
  {
   "cell_type": "code",
   "execution_count": 48,
   "id": "bab571cd",
   "metadata": {},
   "outputs": [],
   "source": [
    "Alex=total/2"
   ]
  },
  {
   "cell_type": "code",
   "execution_count": 49,
   "id": "40a81e8c",
   "metadata": {},
   "outputs": [
    {
     "data": {
      "text/plain": [
       "2.5"
      ]
     },
     "execution_count": 49,
     "metadata": {},
     "output_type": "execute_result"
    }
   ],
   "source": [
    "Alex"
   ]
  },
  {
   "cell_type": "code",
   "execution_count": 50,
   "id": "8015e479",
   "metadata": {},
   "outputs": [],
   "source": [
    "res=total %2 "
   ]
  },
  {
   "cell_type": "code",
   "execution_count": 52,
   "id": "bf8e70c7",
   "metadata": {},
   "outputs": [
    {
     "data": {
      "text/plain": [
       "1"
      ]
     },
     "execution_count": 52,
     "metadata": {},
     "output_type": "execute_result"
    }
   ],
   "source": [
    "res"
   ]
  },
  {
   "cell_type": "code",
   "execution_count": 53,
   "id": "2fac3984",
   "metadata": {},
   "outputs": [],
   "source": [
    "alex=total//2"
   ]
  },
  {
   "cell_type": "code",
   "execution_count": 54,
   "id": "f806fedc",
   "metadata": {},
   "outputs": [
    {
     "data": {
      "text/plain": [
       "2"
      ]
     },
     "execution_count": 54,
     "metadata": {},
     "output_type": "execute_result"
    }
   ],
   "source": [
    "alex"
   ]
  },
  {
   "cell_type": "code",
   "execution_count": 55,
   "id": "0f77f5a7",
   "metadata": {},
   "outputs": [
    {
     "data": {
      "text/plain": [
       "4"
      ]
     },
     "execution_count": 55,
     "metadata": {},
     "output_type": "execute_result"
    }
   ],
   "source": [
    "2**2"
   ]
  },
  {
   "cell_type": "code",
   "execution_count": 59,
   "id": "287ec3f8",
   "metadata": {},
   "outputs": [],
   "source": [
    "word=\"Python Courses\""
   ]
  },
  {
   "cell_type": "code",
   "execution_count": 60,
   "id": "57e28308",
   "metadata": {},
   "outputs": [
    {
     "data": {
      "text/plain": [
       "'s'"
      ]
     },
     "execution_count": 60,
     "metadata": {},
     "output_type": "execute_result"
    }
   ],
   "source": [
    "word[-1]"
   ]
  },
  {
   "cell_type": "code",
   "execution_count": 63,
   "id": "00e37ab3",
   "metadata": {},
   "outputs": [
    {
     "data": {
      "text/plain": [
       "str"
      ]
     },
     "execution_count": 63,
     "metadata": {},
     "output_type": "execute_result"
    }
   ],
   "source": [
    "b\n",
    "type(b)"
   ]
  },
  {
   "cell_type": "code",
   "execution_count": 62,
   "id": "4fcfb415",
   "metadata": {},
   "outputs": [
    {
     "data": {
      "text/plain": [
       "'Hello'"
      ]
     },
     "execution_count": 62,
     "metadata": {},
     "output_type": "execute_result"
    }
   ],
   "source": [
    "b.capitalize()"
   ]
  },
  {
   "cell_type": "code",
   "execution_count": 64,
   "id": "0995eb41",
   "metadata": {},
   "outputs": [],
   "source": [
    "l1=[1,2,3,4]"
   ]
  },
  {
   "cell_type": "code",
   "execution_count": 65,
   "id": "6d6070df",
   "metadata": {},
   "outputs": [
    {
     "data": {
      "text/plain": [
       "[1, 2, 3, 4]"
      ]
     },
     "execution_count": 65,
     "metadata": {},
     "output_type": "execute_result"
    }
   ],
   "source": [
    "l1"
   ]
  },
  {
   "cell_type": "code",
   "execution_count": 69,
   "id": "50f3d0e6",
   "metadata": {},
   "outputs": [
    {
     "data": {
      "text/plain": [
       "list"
      ]
     },
     "execution_count": 69,
     "metadata": {},
     "output_type": "execute_result"
    }
   ],
   "source": [
    "type(l1)"
   ]
  },
  {
   "cell_type": "code",
   "execution_count": 66,
   "id": "2f904646",
   "metadata": {},
   "outputs": [],
   "source": [
    "l2={1,2,3,4}"
   ]
  },
  {
   "cell_type": "code",
   "execution_count": 67,
   "id": "c73a9d33",
   "metadata": {},
   "outputs": [
    {
     "data": {
      "text/plain": [
       "{1, 2, 3, 4}"
      ]
     },
     "execution_count": 67,
     "metadata": {},
     "output_type": "execute_result"
    }
   ],
   "source": [
    "l2"
   ]
  },
  {
   "cell_type": "code",
   "execution_count": 68,
   "id": "cc6169d0",
   "metadata": {},
   "outputs": [
    {
     "data": {
      "text/plain": [
       "set"
      ]
     },
     "execution_count": 68,
     "metadata": {},
     "output_type": "execute_result"
    }
   ],
   "source": [
    "type(l2)"
   ]
  },
  {
   "cell_type": "code",
   "execution_count": 72,
   "id": "b21161eb",
   "metadata": {},
   "outputs": [],
   "source": [
    "mylist=[\"A\",12,\"ouaga\",l1]"
   ]
  },
  {
   "cell_type": "code",
   "execution_count": 73,
   "id": "461dc9ed",
   "metadata": {},
   "outputs": [
    {
     "data": {
      "text/plain": [
       "['A', 12, 'ouaga', [1, 2, 3, 4]]"
      ]
     },
     "execution_count": 73,
     "metadata": {},
     "output_type": "execute_result"
    }
   ],
   "source": [
    "mylist"
   ]
  },
  {
   "cell_type": "code",
   "execution_count": 74,
   "id": "de0dc8f2",
   "metadata": {},
   "outputs": [],
   "source": [
    "names=[\"Jeff\", \"Bill\", \"Steve\", \"Mohan\"]"
   ]
  },
  {
   "cell_type": "code",
   "execution_count": null,
   "id": "a8995978",
   "metadata": {},
   "outputs": [],
   "source": [
    "item=[1, \"Jeff\", \"ecobank\", 75500, True]"
   ]
  },
  {
   "cell_type": "code",
   "execution_count": null,
   "id": "57baa7c8",
   "metadata": {},
   "outputs": [],
   "source": [
    "age=[0,]"
   ]
  },
  {
   "cell_type": "code",
   "execution_count": 75,
   "id": "befc7565",
   "metadata": {},
   "outputs": [],
   "source": [
    "names.append(\"manuella\")"
   ]
  },
  {
   "cell_type": "code",
   "execution_count": 76,
   "id": "29852a8c",
   "metadata": {},
   "outputs": [
    {
     "data": {
      "text/plain": [
       "['Jeff', 'Bill', 'Steve', 'Mohan', 'manuella']"
      ]
     },
     "execution_count": 76,
     "metadata": {},
     "output_type": "execute_result"
    }
   ],
   "source": [
    "names"
   ]
  },
  {
   "cell_type": "code",
   "execution_count": 77,
   "id": "f0e81ea8",
   "metadata": {},
   "outputs": [],
   "source": [
    "names.insert(1,\"rama\")"
   ]
  },
  {
   "cell_type": "code",
   "execution_count": 78,
   "id": "dcd91abd",
   "metadata": {},
   "outputs": [
    {
     "data": {
      "text/plain": [
       "['Jeff', 'rama', 'Bill', 'Steve', 'Mohan', 'manuella']"
      ]
     },
     "execution_count": 78,
     "metadata": {},
     "output_type": "execute_result"
    }
   ],
   "source": [
    "names"
   ]
  },
  {
   "cell_type": "code",
   "execution_count": 81,
   "id": "d6198da6",
   "metadata": {},
   "outputs": [],
   "source": [
    "names[1]=\"billy\""
   ]
  },
  {
   "cell_type": "code",
   "execution_count": 82,
   "id": "1d855845",
   "metadata": {},
   "outputs": [
    {
     "data": {
      "text/plain": [
       "['Jeff', 'billy', 'Bill', 'Steve', 'Mohan', 'manuella']"
      ]
     },
     "execution_count": 82,
     "metadata": {},
     "output_type": "execute_result"
    }
   ],
   "source": [
    "names"
   ]
  },
  {
   "cell_type": "code",
   "execution_count": 83,
   "id": "a555191f",
   "metadata": {},
   "outputs": [],
   "source": [
    "names.remove(\"billy\")"
   ]
  },
  {
   "cell_type": "code",
   "execution_count": 84,
   "id": "ba1f168d",
   "metadata": {},
   "outputs": [
    {
     "data": {
      "text/plain": [
       "['Jeff', 'Bill', 'Steve', 'Mohan', 'manuella']"
      ]
     },
     "execution_count": 84,
     "metadata": {},
     "output_type": "execute_result"
    }
   ],
   "source": [
    "names"
   ]
  },
  {
   "cell_type": "code",
   "execution_count": 85,
   "id": "7c80521a",
   "metadata": {},
   "outputs": [
    {
     "data": {
      "text/plain": [
       "'Jeff'"
      ]
     },
     "execution_count": 85,
     "metadata": {},
     "output_type": "execute_result"
    }
   ],
   "source": [
    "names.pop(0)"
   ]
  },
  {
   "cell_type": "code",
   "execution_count": 86,
   "id": "4036a8ea",
   "metadata": {},
   "outputs": [
    {
     "data": {
      "text/plain": [
       "['Bill', 'Steve', 'Mohan', 'manuella']"
      ]
     },
     "execution_count": 86,
     "metadata": {},
     "output_type": "execute_result"
    }
   ],
   "source": [
    "names"
   ]
  },
  {
   "cell_type": "code",
   "execution_count": 87,
   "id": "1abdf202",
   "metadata": {},
   "outputs": [],
   "source": [
    "del names[0]"
   ]
  },
  {
   "cell_type": "code",
   "execution_count": 88,
   "id": "78774703",
   "metadata": {},
   "outputs": [
    {
     "data": {
      "text/plain": [
       "['Steve', 'Mohan', 'manuella']"
      ]
     },
     "execution_count": 88,
     "metadata": {},
     "output_type": "execute_result"
    }
   ],
   "source": [
    "names"
   ]
  },
  {
   "cell_type": "code",
   "execution_count": 89,
   "id": "ac71576f",
   "metadata": {},
   "outputs": [],
   "source": [
    "del names"
   ]
  },
  {
   "cell_type": "code",
   "execution_count": 90,
   "id": "613716d4",
   "metadata": {},
   "outputs": [
    {
     "ename": "NameError",
     "evalue": "name 'names' is not defined",
     "output_type": "error",
     "traceback": [
      "\u001b[1;31m---------------------------------------------------------------------------\u001b[0m",
      "\u001b[1;31mNameError\u001b[0m                                 Traceback (most recent call last)",
      "\u001b[1;32m<ipython-input-90-c8beb69a2cd4>\u001b[0m in \u001b[0;36m<module>\u001b[1;34m\u001b[0m\n\u001b[1;32m----> 1\u001b[1;33m \u001b[0mnames\u001b[0m\u001b[1;33m\u001b[0m\u001b[1;33m\u001b[0m\u001b[0m\n\u001b[0m",
      "\u001b[1;31mNameError\u001b[0m: name 'names' is not defined"
     ]
    }
   ],
   "source": [
    "names"
   ]
  },
  {
   "cell_type": "code",
   "execution_count": 91,
   "id": "08dea152",
   "metadata": {},
   "outputs": [],
   "source": [
    " clients=['Ami','Jean','Paul','Max']"
   ]
  },
  {
   "cell_type": "code",
   "execution_count": 93,
   "id": "5ccc118b",
   "metadata": {},
   "outputs": [],
   "source": [
    "clients.append(\"simon\")"
   ]
  },
  {
   "cell_type": "code",
   "execution_count": 94,
   "id": "f8587bc5",
   "metadata": {},
   "outputs": [
    {
     "data": {
      "text/plain": [
       "['Ami', 'Jean', 'Paul', 'Max', 'simon']"
      ]
     },
     "execution_count": 94,
     "metadata": {},
     "output_type": "execute_result"
    }
   ],
   "source": [
    "clients"
   ]
  },
  {
   "cell_type": "code",
   "execution_count": 95,
   "id": "c2f3bc66",
   "metadata": {},
   "outputs": [],
   "source": [
    "clients.remove(\"Paul\")"
   ]
  },
  {
   "cell_type": "code",
   "execution_count": 96,
   "id": "b478adbf",
   "metadata": {},
   "outputs": [
    {
     "data": {
      "text/plain": [
       "['Ami', 'Jean', 'Max', 'simon']"
      ]
     },
     "execution_count": 96,
     "metadata": {},
     "output_type": "execute_result"
    }
   ],
   "source": [
    "clients"
   ]
  },
  {
   "cell_type": "code",
   "execution_count": 97,
   "id": "1507b441",
   "metadata": {},
   "outputs": [],
   "source": [
    "list2=[\"Frank\",\"Mark\",\"Ron\",\"Hermione\"]"
   ]
  },
  {
   "cell_type": "code",
   "execution_count": 99,
   "id": "710f8d8c",
   "metadata": {},
   "outputs": [
    {
     "data": {
      "text/plain": [
       "['Ami', 'Jean', 'Max', 'simon', 'Frank', 'Mark', 'Ron', 'Hermione']"
      ]
     },
     "execution_count": 99,
     "metadata": {},
     "output_type": "execute_result"
    }
   ],
   "source": [
    "clients"
   ]
  },
  {
   "cell_type": "code",
   "execution_count": 100,
   "id": "6b9e51f5",
   "metadata": {},
   "outputs": [
    {
     "data": {
      "text/plain": [
       "8"
      ]
     },
     "execution_count": 100,
     "metadata": {},
     "output_type": "execute_result"
    }
   ],
   "source": [
    "len(clients)"
   ]
  },
  {
   "cell_type": "code",
   "execution_count": 101,
   "id": "8383e83e",
   "metadata": {},
   "outputs": [
    {
     "data": {
      "text/plain": [
       "['Ami', 'Jean', 'Max', 'simon']"
      ]
     },
     "execution_count": 101,
     "metadata": {},
     "output_type": "execute_result"
    }
   ],
   "source": [
    "clients[0:4]"
   ]
  },
  {
   "cell_type": "code",
   "execution_count": 103,
   "id": "ed2da027",
   "metadata": {},
   "outputs": [],
   "source": [
    "tuples=('hello', 'ami', 'cava')"
   ]
  },
  {
   "cell_type": "code",
   "execution_count": 104,
   "id": "7c9047d7",
   "metadata": {},
   "outputs": [
    {
     "data": {
      "text/plain": [
       "tuple"
      ]
     },
     "execution_count": 104,
     "metadata": {},
     "output_type": "execute_result"
    }
   ],
   "source": [
    "type(tuples)"
   ]
  },
  {
   "cell_type": "code",
   "execution_count": 105,
   "id": "463f7786",
   "metadata": {},
   "outputs": [],
   "source": [
    "names=[\"Jeff\", \"Bill\", \"Steve\", \"Mohan\"]"
   ]
  },
  {
   "cell_type": "code",
   "execution_count": 106,
   "id": "493fc886",
   "metadata": {},
   "outputs": [],
   "source": [
    "age=(10,2,2)\n",
    "x,y,z=age"
   ]
  },
  {
   "cell_type": "code",
   "execution_count": 108,
   "id": "aa11f34d",
   "metadata": {},
   "outputs": [],
   "source": [
    "list_tuple=tuple(names)"
   ]
  },
  {
   "cell_type": "code",
   "execution_count": 109,
   "id": "9abf735c",
   "metadata": {},
   "outputs": [
    {
     "data": {
      "text/plain": [
       "('Jeff', 'Bill', 'Steve', 'Mohan')"
      ]
     },
     "execution_count": 109,
     "metadata": {},
     "output_type": "execute_result"
    }
   ],
   "source": [
    "list_tuple"
   ]
  },
  {
   "cell_type": "code",
   "execution_count": 114,
   "id": "1efb8e9a",
   "metadata": {},
   "outputs": [
    {
     "data": {
      "text/plain": [
       "(10, 2, 2)"
      ]
     },
     "execution_count": 114,
     "metadata": {},
     "output_type": "execute_result"
    }
   ],
   "source": [
    "age[0:3]"
   ]
  },
  {
   "cell_type": "code",
   "execution_count": 115,
   "id": "94238c73",
   "metadata": {},
   "outputs": [
    {
     "ename": "TypeError",
     "evalue": "'tuple' object does not support item assignment",
     "output_type": "error",
     "traceback": [
      "\u001b[1;31m---------------------------------------------------------------------------\u001b[0m",
      "\u001b[1;31mTypeError\u001b[0m                                 Traceback (most recent call last)",
      "\u001b[1;32m<ipython-input-115-44267834ee04>\u001b[0m in \u001b[0;36m<module>\u001b[1;34m\u001b[0m\n\u001b[1;32m----> 1\u001b[1;33m \u001b[0mage\u001b[0m\u001b[1;33m[\u001b[0m\u001b[1;36m1\u001b[0m\u001b[1;33m]\u001b[0m\u001b[1;33m=\u001b[0m\u001b[1;36m20\u001b[0m\u001b[1;33m\u001b[0m\u001b[1;33m\u001b[0m\u001b[0m\n\u001b[0m",
      "\u001b[1;31mTypeError\u001b[0m: 'tuple' object does not support item assignment"
     ]
    }
   ],
   "source": [
    "age[1]=20"
   ]
  },
  {
   "cell_type": "code",
   "execution_count": 117,
   "id": "ce4d59ad",
   "metadata": {},
   "outputs": [],
   "source": [
    "liste = ['ami', 'john', 'ami', 'pear', 'Max', 'cynthia','Max']\n"
   ]
  },
  {
   "cell_type": "code",
   "execution_count": 118,
   "id": "a418279c",
   "metadata": {},
   "outputs": [],
   "source": [
    "sett=set(liste)"
   ]
  },
  {
   "cell_type": "code",
   "execution_count": 119,
   "id": "de24eec2",
   "metadata": {},
   "outputs": [
    {
     "data": {
      "text/plain": [
       "{'Max', 'ami', 'cynthia', 'john', 'pear'}"
      ]
     },
     "execution_count": 119,
     "metadata": {},
     "output_type": "execute_result"
    }
   ],
   "source": [
    "set"
   ]
  },
  {
   "cell_type": "code",
   "execution_count": 126,
   "id": "8c7a1c8a",
   "metadata": {},
   "outputs": [],
   "source": [
    "list2=tuple(sett)"
   ]
  },
  {
   "cell_type": "code",
   "execution_count": 127,
   "id": "92ccb10d",
   "metadata": {},
   "outputs": [
    {
     "data": {
      "text/plain": [
       "('pear', 'john', 'ami', 'cynthia', 'Max')"
      ]
     },
     "execution_count": 127,
     "metadata": {},
     "output_type": "execute_result"
    }
   ],
   "source": [
    "list2"
   ]
  },
  {
   "cell_type": "code",
   "execution_count": 129,
   "id": "f6da8a67",
   "metadata": {},
   "outputs": [
    {
     "ename": "TypeError",
     "evalue": "'tuple' object is not callable",
     "output_type": "error",
     "traceback": [
      "\u001b[1;31m---------------------------------------------------------------------------\u001b[0m",
      "\u001b[1;31mTypeError\u001b[0m                                 Traceback (most recent call last)",
      "\u001b[1;32m<ipython-input-129-c5ea1498104e>\u001b[0m in \u001b[0;36m<module>\u001b[1;34m\u001b[0m\n\u001b[1;32m----> 1\u001b[1;33m \u001b[0mt\u001b[0m\u001b[1;33m=\u001b[0m\u001b[0mlist\u001b[0m\u001b[1;33m(\u001b[0m\u001b[0mlist2\u001b[0m\u001b[1;33m)\u001b[0m\u001b[1;33m\u001b[0m\u001b[1;33m\u001b[0m\u001b[0m\n\u001b[0m",
      "\u001b[1;31mTypeError\u001b[0m: 'tuple' object is not callable"
     ]
    }
   ],
   "source": [
    "t=list(list2)"
   ]
  },
  {
   "cell_type": "code",
   "execution_count": 132,
   "id": "2e703562",
   "metadata": {},
   "outputs": [
    {
     "data": {
      "text/plain": [
       "{'Max', 'ami', 'cynthia', 'john', 'pear'}"
      ]
     },
     "execution_count": 132,
     "metadata": {},
     "output_type": "execute_result"
    }
   ],
   "source": [
    "sett"
   ]
  },
  {
   "cell_type": "code",
   "execution_count": null,
   "id": "b144a8dc",
   "metadata": {},
   "outputs": [],
   "source": [
    "un_variable"
   ]
  },
  {
   "cell_type": "code",
   "execution_count": null,
   "id": "c0acb319",
   "metadata": {},
   "outputs": [],
   "source": [
    "nomPrenom"
   ]
  }
 ],
 "metadata": {
  "kernelspec": {
   "display_name": "Python 3",
   "language": "python",
   "name": "python3"
  },
  "language_info": {
   "codemirror_mode": {
    "name": "ipython",
    "version": 3
   },
   "file_extension": ".py",
   "mimetype": "text/x-python",
   "name": "python",
   "nbconvert_exporter": "python",
   "pygments_lexer": "ipython3",
   "version": "3.8.8"
  }
 },
 "nbformat": 4,
 "nbformat_minor": 5
}
