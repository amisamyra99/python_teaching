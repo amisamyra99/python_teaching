{
 "cells": [
  {
   "cell_type": "code",
   "execution_count": 101,
   "id": "16650a02",
   "metadata": {},
   "outputs": [],
   "source": [
    "import pandas as pd\n",
    "import numpy as np\n",
    "from sklearn.metrics import classification_report\n",
    "import tensorflow as tf\n",
    "# Import seaborn\n",
    "import seaborn as sns\n",
    "import matplotlib.pyplot as plt\n",
    "from sklearn.metrics import classification_report"
   ]
  },
  {
   "cell_type": "markdown",
   "id": "02c5edad",
   "metadata": {},
   "source": [
    ">By the past we've talked about seaborn ,pandas and so one ,today lets talks about sklearn\n",
    "particularly sklearn.metrics"
   ]
  },
  {
   "attachments": {
    "t%C3%A9l%C3%A9chargement%20%282%29.png": {
     "image/png": "[encoded data removed]"
    }
   },
   "cell_type": "markdown",
   "id": "2b9ea044",
   "metadata": {},
   "source": [
    ">![t%C3%A9l%C3%A9chargement%20%282%29.png](attachment:t%C3%A9l%C3%A9chargement%20%282%29.png)\n",
    "Scikit-learn (Sklearn) is the most useful and robust library for machine learning in Python.  \n",
    "Sklearn cointains models for differents task that we've mentioned before (classification,unsupervised learning and...)"
   ]
  },
  {
   "cell_type": "markdown",
   "id": "3c6177af",
   "metadata": {},
   "source": [
    ">In the field of machine learning and specifically the problem of statistical classification, a confusion matrix, also known as an error matrix, is a specific table layout that allows visualization of the performance of an algorithm, typically a supervised learning one (in unsupervised learning it is usually called a matching matrix). "
   ]
  },
  {
   "cell_type": "markdown",
   "id": "33e4234a",
   "metadata": {},
   "source": [
    ">suppose that you have dataset for cancer prediction  1 person have cancer 0  this person don't have cancer"
   ]
  },
  {
   "attachments": {
    "Screenshot%202022-07-18%20154633.png": {
     "image/png": "[encoded data removed]"
    }
   },
   "cell_type": "markdown",
   "id": "325cb733",
   "metadata": {},
   "source": [
    "![Screenshot%202022-07-18%20154633.png](attachment:Screenshot%202022-07-18%20154633.png)   \n"
   ]
  },
  {
   "cell_type": "code",
   "execution_count": 64,
   "id": "0ec214b4",
   "metadata": {},
   "outputs": [],
   "source": [
    "inumber=[1,2,3,4,5,6,7,8,9,10,11,12]\n",
    "data = pd.DataFrame(np.transpose(np.array([[1,2,3,4,5,6,7,8,9,10,11,12],[1,1,1,1, 1,1,1,1,0,0,0,0], [0,0,1,1, 1,1,1,1,1,0,0,0],['FN','FN','TP','TP','TP','TP','TP','TP','FP','TN','TN','TN']])),\n",
    "                   columns=['inumber','actualvalues','predictedvalues','result'],index=inumber)\n"
   ]
  },
  {
   "cell_type": "code",
   "execution_count": 65,
   "id": "3d71b233",
   "metadata": {},
   "outputs": [
    {
     "data": {
      "text/html": [
       "<div>\n",
       "<style scoped>\n",
       "    .dataframe tbody tr th:only-of-type {\n",
       "        vertical-align: middle;\n",
       "    }\n",
       "\n",
       "    .dataframe tbody tr th {\n",
       "        vertical-align: top;\n",
       "    }\n",
       "\n",
       "    .dataframe thead th {\n",
       "        text-align: right;\n",
       "    }\n",
       "</style>\n",
       "<table border=\"1\" class=\"dataframe\">\n",
       "  <thead>\n",
       "    <tr style=\"text-align: right;\">\n",
       "      <th></th>\n",
       "      <th>inumber</th>\n",
       "      <th>actualvalues</th>\n",
       "      <th>predictedvalues</th>\n",
       "      <th>result</th>\n",
       "    </tr>\n",
       "  </thead>\n",
       "  <tbody>\n",
       "    <tr>\n",
       "      <th>1</th>\n",
       "      <td>1</td>\n",
       "      <td>1</td>\n",
       "      <td>0</td>\n",
       "      <td>FN</td>\n",
       "    </tr>\n",
       "    <tr>\n",
       "      <th>2</th>\n",
       "      <td>2</td>\n",
       "      <td>1</td>\n",
       "      <td>0</td>\n",
       "      <td>FN</td>\n",
       "    </tr>\n",
       "    <tr>\n",
       "      <th>3</th>\n",
       "      <td>3</td>\n",
       "      <td>1</td>\n",
       "      <td>1</td>\n",
       "      <td>TP</td>\n",
       "    </tr>\n",
       "    <tr>\n",
       "      <th>4</th>\n",
       "      <td>4</td>\n",
       "      <td>1</td>\n",
       "      <td>1</td>\n",
       "      <td>TP</td>\n",
       "    </tr>\n",
       "    <tr>\n",
       "      <th>5</th>\n",
       "      <td>5</td>\n",
       "      <td>1</td>\n",
       "      <td>1</td>\n",
       "      <td>TP</td>\n",
       "    </tr>\n",
       "    <tr>\n",
       "      <th>6</th>\n",
       "      <td>6</td>\n",
       "      <td>1</td>\n",
       "      <td>1</td>\n",
       "      <td>TP</td>\n",
       "    </tr>\n",
       "    <tr>\n",
       "      <th>7</th>\n",
       "      <td>7</td>\n",
       "      <td>1</td>\n",
       "      <td>1</td>\n",
       "      <td>TP</td>\n",
       "    </tr>\n",
       "    <tr>\n",
       "      <th>8</th>\n",
       "      <td>8</td>\n",
       "      <td>1</td>\n",
       "      <td>1</td>\n",
       "      <td>TP</td>\n",
       "    </tr>\n",
       "    <tr>\n",
       "      <th>9</th>\n",
       "      <td>9</td>\n",
       "      <td>0</td>\n",
       "      <td>1</td>\n",
       "      <td>FP</td>\n",
       "    </tr>\n",
       "    <tr>\n",
       "      <th>10</th>\n",
       "      <td>10</td>\n",
       "      <td>0</td>\n",
       "      <td>0</td>\n",
       "      <td>TN</td>\n",
       "    </tr>\n",
       "    <tr>\n",
       "      <th>11</th>\n",
       "      <td>11</td>\n",
       "      <td>0</td>\n",
       "      <td>0</td>\n",
       "      <td>TN</td>\n",
       "    </tr>\n",
       "    <tr>\n",
       "      <th>12</th>\n",
       "      <td>12</td>\n",
       "      <td>0</td>\n",
       "      <td>0</td>\n",
       "      <td>TN</td>\n",
       "    </tr>\n",
       "  </tbody>\n",
       "</table>\n",
       "</div>"
      ],
      "text/plain": [
       "   inumber actualvalues predictedvalues result\n",
       "1        1            1               0     FN\n",
       "2        2            1               0     FN\n",
       "3        3            1               1     TP\n",
       "4        4            1               1     TP\n",
       "5        5            1               1     TP\n",
       "6        6            1               1     TP\n",
       "7        7            1               1     TP\n",
       "8        8            1               1     TP\n",
       "9        9            0               1     FP\n",
       "10      10            0               0     TN\n",
       "11      11            0               0     TN\n",
       "12      12            0               0     TN"
      ]
     },
     "execution_count": 65,
     "metadata": {},
     "output_type": "execute_result"
    }
   ],
   "source": [
    "data"
   ]
  },
  {
   "cell_type": "markdown",
   "id": "b7180f57",
   "metadata": {},
   "source": [
    ">here we have created our model ,we can see now our model prediction"
   ]
  },
  {
   "attachments": {
    "Screenshot%202022-07-18%20154726.png": {
     "image/png": "[encoded data removed]"
    }
   },
   "cell_type": "markdown",
   "id": "dc94c24a",
   "metadata": {},
   "source": [
    "![Screenshot%202022-07-18%20154726.png](attachment:Screenshot%202022-07-18%20154726.png)"
   ]
  },
  {
   "cell_type": "code",
   "execution_count": 13,
   "id": "33b58a78",
   "metadata": {},
   "outputs": [
    {
     "data": {
      "text/html": [
       "<div>\n",
       "<style scoped>\n",
       "    .dataframe tbody tr th:only-of-type {\n",
       "        vertical-align: middle;\n",
       "    }\n",
       "\n",
       "    .dataframe tbody tr th {\n",
       "        vertical-align: top;\n",
       "    }\n",
       "\n",
       "    .dataframe thead th {\n",
       "        text-align: right;\n",
       "    }\n",
       "</style>\n",
       "<table border=\"1\" class=\"dataframe\">\n",
       "  <thead>\n",
       "    <tr style=\"text-align: right;\">\n",
       "      <th></th>\n",
       "      <th>0</th>\n",
       "      <th>1</th>\n",
       "      <th>2</th>\n",
       "      <th>3</th>\n",
       "      <th>4</th>\n",
       "      <th>5</th>\n",
       "      <th>6</th>\n",
       "      <th>7</th>\n",
       "      <th>8</th>\n",
       "      <th>9</th>\n",
       "      <th>10</th>\n",
       "      <th>11</th>\n",
       "    </tr>\n",
       "  </thead>\n",
       "  <tbody>\n",
       "    <tr>\n",
       "      <th>0</th>\n",
       "      <td>1</td>\n",
       "      <td>2</td>\n",
       "      <td>3</td>\n",
       "      <td>4</td>\n",
       "      <td>5</td>\n",
       "      <td>6</td>\n",
       "      <td>7</td>\n",
       "      <td>8</td>\n",
       "      <td>9</td>\n",
       "      <td>10</td>\n",
       "      <td>11</td>\n",
       "      <td>12</td>\n",
       "    </tr>\n",
       "    <tr>\n",
       "      <th>1</th>\n",
       "      <td>1</td>\n",
       "      <td>1</td>\n",
       "      <td>1</td>\n",
       "      <td>1</td>\n",
       "      <td>1</td>\n",
       "      <td>1</td>\n",
       "      <td>1</td>\n",
       "      <td>1</td>\n",
       "      <td>0</td>\n",
       "      <td>0</td>\n",
       "      <td>0</td>\n",
       "      <td>0</td>\n",
       "    </tr>\n",
       "    <tr>\n",
       "      <th>2</th>\n",
       "      <td>0</td>\n",
       "      <td>0</td>\n",
       "      <td>1</td>\n",
       "      <td>1</td>\n",
       "      <td>1</td>\n",
       "      <td>1</td>\n",
       "      <td>1</td>\n",
       "      <td>1</td>\n",
       "      <td>1</td>\n",
       "      <td>0</td>\n",
       "      <td>0</td>\n",
       "      <td>0</td>\n",
       "    </tr>\n",
       "  </tbody>\n",
       "</table>\n",
       "</div>"
      ],
      "text/plain": [
       "  0  1  2  3  4  5  6  7  8   9   10  11\n",
       "0  1  2  3  4  5  6  7  8  9  10  11  12\n",
       "1  1  1  1  1  1  1  1  1  0   0   0   0\n",
       "2  0  0  1  1  1  1  1  1  1   0   0   0"
      ]
     },
     "execution_count": 13,
     "metadata": {},
     "output_type": "execute_result"
    }
   ],
   "source": [
    "data[0:3]"
   ]
  },
  {
   "cell_type": "markdown",
   "id": "4750a264",
   "metadata": {},
   "source": [
    ">let evaluate now our model"
   ]
  },
  {
   "attachments": {
    "Screenshot%202022-07-18%20154800.png": {
     "image/png": "[encoded data removed]"
    }
   },
   "cell_type": "markdown",
   "id": "67054362",
   "metadata": {},
   "source": [
    "![Screenshot%202022-07-18%20154800.png](attachment:Screenshot%202022-07-18%20154800.png)"
   ]
  },
  {
   "cell_type": "code",
   "execution_count": 14,
   "id": "0b2e4053",
   "metadata": {},
   "outputs": [
    {
     "data": {
      "text/html": [
       "<div>\n",
       "<style scoped>\n",
       "    .dataframe tbody tr th:only-of-type {\n",
       "        vertical-align: middle;\n",
       "    }\n",
       "\n",
       "    .dataframe tbody tr th {\n",
       "        vertical-align: top;\n",
       "    }\n",
       "\n",
       "    .dataframe thead th {\n",
       "        text-align: right;\n",
       "    }\n",
       "</style>\n",
       "<table border=\"1\" class=\"dataframe\">\n",
       "  <thead>\n",
       "    <tr style=\"text-align: right;\">\n",
       "      <th></th>\n",
       "      <th>0</th>\n",
       "      <th>1</th>\n",
       "      <th>2</th>\n",
       "      <th>3</th>\n",
       "      <th>4</th>\n",
       "      <th>5</th>\n",
       "      <th>6</th>\n",
       "      <th>7</th>\n",
       "      <th>8</th>\n",
       "      <th>9</th>\n",
       "      <th>10</th>\n",
       "      <th>11</th>\n",
       "    </tr>\n",
       "  </thead>\n",
       "  <tbody>\n",
       "    <tr>\n",
       "      <th>0</th>\n",
       "      <td>1</td>\n",
       "      <td>2</td>\n",
       "      <td>3</td>\n",
       "      <td>4</td>\n",
       "      <td>5</td>\n",
       "      <td>6</td>\n",
       "      <td>7</td>\n",
       "      <td>8</td>\n",
       "      <td>9</td>\n",
       "      <td>10</td>\n",
       "      <td>11</td>\n",
       "      <td>12</td>\n",
       "    </tr>\n",
       "    <tr>\n",
       "      <th>1</th>\n",
       "      <td>1</td>\n",
       "      <td>1</td>\n",
       "      <td>1</td>\n",
       "      <td>1</td>\n",
       "      <td>1</td>\n",
       "      <td>1</td>\n",
       "      <td>1</td>\n",
       "      <td>1</td>\n",
       "      <td>0</td>\n",
       "      <td>0</td>\n",
       "      <td>0</td>\n",
       "      <td>0</td>\n",
       "    </tr>\n",
       "    <tr>\n",
       "      <th>2</th>\n",
       "      <td>0</td>\n",
       "      <td>0</td>\n",
       "      <td>1</td>\n",
       "      <td>1</td>\n",
       "      <td>1</td>\n",
       "      <td>1</td>\n",
       "      <td>1</td>\n",
       "      <td>1</td>\n",
       "      <td>1</td>\n",
       "      <td>0</td>\n",
       "      <td>0</td>\n",
       "      <td>0</td>\n",
       "    </tr>\n",
       "    <tr>\n",
       "      <th>3</th>\n",
       "      <td>FN</td>\n",
       "      <td>FN</td>\n",
       "      <td>TP</td>\n",
       "      <td>TP</td>\n",
       "      <td>TP</td>\n",
       "      <td>TP</td>\n",
       "      <td>TP</td>\n",
       "      <td>TP</td>\n",
       "      <td>FP</td>\n",
       "      <td>TN</td>\n",
       "      <td>TN</td>\n",
       "      <td>TN</td>\n",
       "    </tr>\n",
       "  </tbody>\n",
       "</table>\n",
       "</div>"
      ],
      "text/plain": [
       "   0   1   2   3   4   5   6   7   8   9   10  11\n",
       "0   1   2   3   4   5   6   7   8   9  10  11  12\n",
       "1   1   1   1   1   1   1   1   1   0   0   0   0\n",
       "2   0   0   1   1   1   1   1   1   1   0   0   0\n",
       "3  FN  FN  TP  TP  TP  TP  TP  TP  FP  TN  TN  TN"
      ]
     },
     "execution_count": 14,
     "metadata": {},
     "output_type": "execute_result"
    }
   ],
   "source": [
    "data[0:4]"
   ]
  },
  {
   "attachments": {
    "Screenshot%202022-07-18%20154821.png": {
     "image/png": "[encoded data removed]"
    }
   },
   "cell_type": "markdown",
   "id": "a585d0b7",
   "metadata": {},
   "source": [
    "![Screenshot%202022-07-18%20154821.png](attachment:Screenshot%202022-07-18%20154821.png)"
   ]
  },
  {
   "attachments": {
    "Screenshot%202022-07-18%20154845.png": {
     "image/png": "[encoded data removed]"
    }
   },
   "cell_type": "markdown",
   "id": "3d306e45",
   "metadata": {},
   "source": [
    "![Screenshot%202022-07-18%20154845.png](attachment:Screenshot%202022-07-18%20154845.png)"
   ]
  },
  {
   "cell_type": "markdown",
   "id": "b00acc8a",
   "metadata": {},
   "source": [
    ">It gives you insight not only into the errors being made by your classifier but more importantly the types of errors that are being made."
   ]
  },
  {
   "cell_type": "code",
   "execution_count": 77,
   "id": "7e468bce",
   "metadata": {},
   "outputs": [],
   "source": [
    "## I will show and example here but i will show a specific example related to the image later\n",
    "import numpy as np\n",
    "testLabel=[int(i) for i in data['actualvalues']]\n",
    "PredLabelsA=[int(i) for i in data['predictedvalues']]"
   ]
  },
  {
   "cell_type": "code",
   "execution_count": 78,
   "id": "b64cb875",
   "metadata": {},
   "outputs": [
    {
     "data": {
      "text/plain": [
       "[1, 1, 1, 1, 1, 1, 1, 1, 0, 0, 0, 0]"
      ]
     },
     "execution_count": 78,
     "metadata": {},
     "output_type": "execute_result"
    }
   ],
   "source": [
    "testLabel\n"
   ]
  },
  {
   "cell_type": "code",
   "execution_count": 100,
   "id": "7bf3cf1a",
   "metadata": {},
   "outputs": [
    {
     "data": {
      "image/png": "[encoded data removed]",
      "text/plain": [
       "<Figure size 432x288 with 2 Axes>"
      ]
     },
     "metadata": {
      "needs_background": "light"
     },
     "output_type": "display_data"
    }
   ],
   "source": [
    "from sklearn.metrics import confusion_matrix\n",
    "n_conf_mat = confusion_matrix(testLabel, PredLabelsA)\n",
    "\n",
    "group_names = ['True Pos','False Pos','True Neg','False Neg']\n",
    "\n",
    "\n",
    "#count variable\n",
    "group_counts = ['{0:0.0f}'.format(value) for value in\n",
    "                n_conf_mat.flatten()]\n",
    "\n",
    "#percentage of each target\n",
    "group_percentages = ['{0:.2%}'.format(value) for value in\n",
    "                     n_conf_mat.flatten()/np.sum(n_conf_mat)]\n",
    "\n",
    "labels = [f'{v1}\\n{v2}\\n{v3}' for v1, v2, v3 in\n",
    "          zip(group_names,group_counts,group_percentages)]\n",
    "\n",
    "labels = np.asarray(labels).reshape(2,2)\n",
    "\n",
    "ax=sns.heatmap(n_conf_mat, annot=labels, cmap='BuPu', fmt='')\n",
    "\n",
    "ax.set_xlabel('Predicted')\n",
    "ax.set_ylabel('Truth')\n",
    "plt.tight_layout()\n",
    "#plt.savefig(\"confusion_matrix_model_opti_lr0_007.png\",dpi=300)"
   ]
  },
  {
   "cell_type": "markdown",
   "id": "94257c24",
   "metadata": {},
   "source": [
    ">definition of TP,TN,FP,FN"
   ]
  },
  {
   "cell_type": "markdown",
   "id": "e610411f",
   "metadata": {},
   "source": [
    ">“true positive” for correctly predicted event values.(persons who don't have cancer)    \n",
    "“false positive” for incorrectly predicted event values.  \n",
    "“true negative” for correctly predicted no-event values.( persons who have cancer)    \n",
    "“false negative” for incorrectly predicted no-event values.  "
   ]
  },
  {
   "cell_type": "code",
   "execution_count": null,
   "id": "0909b00b",
   "metadata": {},
   "outputs": [],
   "source": [
    "##classification report"
   ]
  },
  {
   "cell_type": "code",
   "execution_count": 102,
   "id": "9c0c0cc9",
   "metadata": {},
   "outputs": [
    {
     "name": "stdout",
     "output_type": "stream",
     "text": [
      "              precision    recall  f1-score   support\n",
      "\n",
      "   no cancer       0.60      0.75      0.67         4\n",
      "      cancer       0.86      0.75      0.80         8\n",
      "\n",
      "    accuracy                           0.75        12\n",
      "   macro avg       0.73      0.75      0.73        12\n",
      "weighted avg       0.77      0.75      0.76        12\n",
      "\n"
     ]
    }
   ],
   "source": [
    "target_names = ['no cancer', 'cancer']\n",
    ">>> print(classification_report(testLabel, PredLabelsA, target_names=target_names))"
   ]
  },
  {
   "cell_type": "markdown",
   "id": "3fdcf9eb",
   "metadata": {},
   "source": [
    "#### precison"
   ]
  },
  {
   "cell_type": "markdown",
   "id": "72586bcd",
   "metadata": {},
   "source": [
    ">Precision can be seen as a measure of a classifier’s exactness. For each class, it is defined as the ratio of true positives to the sum of true and false positives. Said another way, “for all instances classified positive, what percent was correct?”"
   ]
  },
  {
   "cell_type": "markdown",
   "id": "3a45b50d",
   "metadata": {},
   "source": [
    "#### recall"
   ]
  },
  {
   "cell_type": "markdown",
   "id": "d9213470",
   "metadata": {},
   "source": [
    ">Recall is a measure of the classifier’s completeness; the ability of a classifier to correctly find all positive instances. For each class, it is defined as the ratio of true positives to the sum of true positives and false negatives. Said another way, “for all instances that were actually positive, what percent was classified correctly?”"
   ]
  },
  {
   "cell_type": "code",
   "execution_count": 104,
   "id": "44b76e8f",
   "metadata": {},
   "outputs": [],
   "source": [
    "####f1 score"
   ]
  },
  {
   "cell_type": "markdown",
   "id": "cf6daae2",
   "metadata": {},
   "source": [
    "#### support"
   ]
  },
  {
   "cell_type": "markdown",
   "id": "eb6cd2cc",
   "metadata": {},
   "source": [
    "\n",
    ">Support is the number of actual occurrences of the class in the specified dataset. Imbalanced support in the training data may indicate structural weaknesses in the reported scores of the classifier and could indicate the need for stratified sampling or rebalancing. Support doesn’t change between models but instead diagnoses the evaluation process."
   ]
  },
  {
   "cell_type": "markdown",
   "id": "bcfa94a6",
   "metadata": {},
   "source": [
    "https://www.scikit-yb.org/en/latest/api/classifier/classification_report.html"
   ]
  },
  {
   "cell_type": "code",
   "execution_count": null,
   "id": "377dab86",
   "metadata": {},
   "outputs": [],
   "source": []
  }
 ],
 "metadata": {
  "kernelspec": {
   "display_name": "Python 3",
   "language": "python",
   "name": "python3"
  },
  "language_info": {
   "codemirror_mode": {
    "name": "ipython",
    "version": 3
   },
   "file_extension": ".py",
   "mimetype": "text/x-python",
   "name": "python",
   "nbconvert_exporter": "python",
   "pygments_lexer": "ipython3",
   "version": "3.8.8"
  }
 },
 "nbformat": 4,
 "nbformat_minor": 5
}
